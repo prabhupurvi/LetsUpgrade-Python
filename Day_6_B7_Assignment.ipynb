{
  "nbformat": 4,
  "nbformat_minor": 0,
  "metadata": {
    "colab": {
      "name": "Day 6- B7 Assignment.ipynb",
      "provenance": []
    },
    "kernelspec": {
      "name": "python3",
      "display_name": "Python 3"
    }
  },
  "cells": [
    {
      "cell_type": "code",
      "metadata": {
        "id": "Kmos3n70IvI2",
        "colab_type": "code",
        "colab": {}
      },
      "source": [
        ""
      ],
      "execution_count": null,
      "outputs": []
    },
    {
      "cell_type": "markdown",
      "metadata": {
        "id": "BVRsHwG1I1v2",
        "colab_type": "text"
      },
      "source": [
        "# Day 6 Assignment"
      ]
    },
    {
      "cell_type": "markdown",
      "metadata": {
        "id": "130VrWC8I5S4",
        "colab_type": "text"
      },
      "source": [
        "# Question 1"
      ]
    },
    {
      "cell_type": "code",
      "metadata": {
        "id": "Wt1U17y4I7kg",
        "colab_type": "code",
        "colab": {}
      },
      "source": [
        "# For this challenge,create a bank account class that has two attributes\n",
        "# *ownerName\n",
        "# *Balance\n",
        "# And two methods\n",
        "# *deposit\n",
        "# *withdraw\n",
        "# As an added requirement,withdrawals may not exceed the available balance.\n",
        "# Instantiate your class,make several deposits and withdrawals,and test to make sure the account\n",
        "# cant be overdrawn."
      ],
      "execution_count": 2,
      "outputs": []
    },
    {
      "cell_type": "code",
      "metadata": {
        "id": "m8ZvjpYVJw9j",
        "colab_type": "code",
        "colab": {}
      },
      "source": [
        "class Bank_account():\n",
        "  def __init__(self,owner_name,balance):\n",
        "    self.owner_name= owner_name\n",
        "    self.balance= balance\n",
        "  def deposit(self):\n",
        "    self.amt = int(input(\"Enter the amount to be deposited\"))\n",
        "    self.balance=self.balance+self.amt\n",
        "    print(str(self.amt)+\" has been deposited in the account\")\n",
        "    print(\"The current balance is\"+ str(self.balance))\n",
        "\n",
        "  def withdraw(self):\n",
        "    self.amt= int(input(\"Enter the amount to be withdrawn\"))\n",
        "    if(self.amt<self.balance):\n",
        "      self.balance=self.balance-self.amt\n",
        "      print(str(self.amt)+\" has been withdrawn from the account\")\n",
        "      print(\"The current balance is\"+ str(self.balance))\n",
        "    else:\n",
        "      print(\"Oops !!! You dont have enough balance\")"
      ],
      "execution_count": 35,
      "outputs": []
    },
    {
      "cell_type": "code",
      "metadata": {
        "id": "tB9_DOtoNPJ3",
        "colab_type": "code",
        "colab": {}
      },
      "source": [
        "acc1= Bank_account(\"Purvi\",50000)"
      ],
      "execution_count": 36,
      "outputs": []
    },
    {
      "cell_type": "code",
      "metadata": {
        "id": "SoX98H2jOcTA",
        "colab_type": "code",
        "colab": {
          "base_uri": "https://localhost:8080/",
          "height": 68
        },
        "outputId": "47b36c31-b15e-4940-c2d7-a1038c08ac68"
      },
      "source": [
        "acc1.deposit()"
      ],
      "execution_count": 37,
      "outputs": [
        {
          "output_type": "stream",
          "text": [
            "Enter the amount to be deposited20000\n",
            "20000 has been deposited in the account\n",
            "The current balance is70000\n"
          ],
          "name": "stdout"
        }
      ]
    },
    {
      "cell_type": "code",
      "metadata": {
        "id": "EI1_bnlTOsUI",
        "colab_type": "code",
        "colab": {
          "base_uri": "https://localhost:8080/",
          "height": 68
        },
        "outputId": "d2b322f3-81c7-4fd6-81eb-91cf29bfc282"
      },
      "source": [
        "acc1.withdraw()"
      ],
      "execution_count": 38,
      "outputs": [
        {
          "output_type": "stream",
          "text": [
            "Enter the amount to be withdrawn40000\n",
            "40000 has been withdrawn from the account\n",
            "The current balance is30000\n"
          ],
          "name": "stdout"
        }
      ]
    },
    {
      "cell_type": "code",
      "metadata": {
        "id": "iuh9kP3yPdWG",
        "colab_type": "code",
        "colab": {
          "base_uri": "https://localhost:8080/",
          "height": 51
        },
        "outputId": "99215c76-81a4-4faa-baf7-105abfa48404"
      },
      "source": [
        "acc1.withdraw()"
      ],
      "execution_count": 39,
      "outputs": [
        {
          "output_type": "stream",
          "text": [
            "Enter the amount to be withdrawn40000\n",
            "Oops !!! You dont have enough balance\n"
          ],
          "name": "stdout"
        }
      ]
    },
    {
      "cell_type": "code",
      "metadata": {
        "id": "PilDTTmHQGJ8",
        "colab_type": "code",
        "colab": {}
      },
      "source": [
        ""
      ],
      "execution_count": null,
      "outputs": []
    },
    {
      "cell_type": "markdown",
      "metadata": {
        "id": "8MwFskfxQKDS",
        "colab_type": "text"
      },
      "source": [
        "# Question 2"
      ]
    },
    {
      "cell_type": "code",
      "metadata": {
        "id": "6zmt4HUvQMuV",
        "colab_type": "code",
        "colab": {}
      },
      "source": [
        "# For this challenge,create a cone class that has two attributes:\n",
        "# *R=Radius\n",
        "# *h=Height\n",
        "# And two methods:\n",
        "# *Volume = Π * r2 = (h/3)\n",
        "# *Surface area : base : Π * r2 , side : Π * r * √(r2 + h2)\n",
        "# Make only one class with functions,as in where required import Math."
      ],
      "execution_count": 40,
      "outputs": []
    },
    {
      "cell_type": "code",
      "metadata": {
        "id": "-bUDWxMGQSoU",
        "colab_type": "code",
        "colab": {
          "base_uri": "https://localhost:8080/",
          "height": 153
        },
        "outputId": "eb929301-8e49-4e1f-eac1-b278af1ea079"
      },
      "source": [
        "import math\n",
        "\n",
        "pi = math.pi\n",
        "\n",
        "class Cone:\n",
        "  def __init__(self,r,h):\n",
        "    self.r = r\n",
        "    self.h = h\n",
        "\n",
        "  def Volume(self):\n",
        "    result = (1/3)*pi*self.r*self.r*self.h\n",
        "    print(\"\\nVolume of the cone is \",result)\n",
        "  \n",
        "  def SurfaceArea(self):\n",
        "    result = pi * self.r * self.h + pi * self.r * self.r\n",
        "    print(\"\\nsurface Area of the cone is \",result)\n",
        "\n",
        "r = float(input(\"\\nEnter the radius of cone : \"))\n",
        "h = float(input(\"\\nEnter the height of cone : \"))\n",
        "\n",
        "c = Cone( r, h)\n",
        "c.Volume()\n",
        "c.SurfaceArea()"
      ],
      "execution_count": 41,
      "outputs": [
        {
          "output_type": "stream",
          "text": [
            "\n",
            "Enter the radius of cone : 5\n",
            "\n",
            "Enter the height of cone : 4\n",
            "\n",
            "Volume of the cone is  104.71975511965977\n",
            "\n",
            "surface Area of the cone is  141.3716694115407\n"
          ],
          "name": "stdout"
        }
      ]
    },
    {
      "cell_type": "code",
      "metadata": {
        "id": "hDU65ZLbQaeF",
        "colab_type": "code",
        "colab": {}
      },
      "source": [
        ""
      ],
      "execution_count": null,
      "outputs": []
    }
  ]
}