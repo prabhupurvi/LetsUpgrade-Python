{
  "nbformat": 4,
  "nbformat_minor": 0,
  "metadata": {
    "colab": {
      "name": "Day 5-B7 Assignment.ipynb",
      "provenance": [],
      "collapsed_sections": []
    },
    "kernelspec": {
      "name": "python3",
      "display_name": "Python 3"
    }
  },
  "cells": [
    {
      "cell_type": "markdown",
      "metadata": {
        "id": "mUMWsflXCm70",
        "colab_type": "text"
      },
      "source": [
        "# Day 5 Assignment\n"
      ]
    },
    {
      "cell_type": "markdown",
      "metadata": {
        "id": "g6OcVCbnCs4G",
        "colab_type": "text"
      },
      "source": [
        "# Question 1"
      ]
    },
    {
      "cell_type": "code",
      "metadata": {
        "id": "aq3i4xgDCvkR",
        "colab_type": "code",
        "colab": {}
      },
      "source": [
        "#Write a program to identify sub list [1,1,5] is there in the given list in the same order, if yes print\n",
        "#“it’s a Match” ​if no then print ​“it’s Gone” ​in function.\n",
        "#Example -\n",
        "#Listy =[1,5,6,4,1,2,3,5] - ​it’s a Match\n",
        "#Listy = [1,5,6,5,1,2,3.6] - ​it’s Gone"
      ],
      "execution_count": 1,
      "outputs": []
    },
    {
      "cell_type": "code",
      "metadata": {
        "id": "gpGG3StwC1ug",
        "colab_type": "code",
        "colab": {
          "base_uri": "https://localhost:8080/",
          "height": 34
        },
        "outputId": "621d57ed-38a7-42ed-e8cb-383e85c515b9"
      },
      "source": [
        "\n",
        "lst = [1, 1, 5]\n",
        "lst1 = [1,5,6,4,1,2,3,5]\n",
        "lst2=[]\n",
        "# l = int(input(\"Enter the length of the list : \"))\n",
        "# j = 0;\n",
        "\n",
        "# creating a list\n",
        "# for i in range (0,l):\n",
        "#     lst1.append(int(input(\"Enter the number for the list : \")))\n",
        "# print()\n",
        "# print(\"List is : \", lst1)\n",
        "\n",
        "for i in range(0,len(lst1)-1,1):\n",
        "  if(str(lst1[i]).find(str(lst))):\n",
        "    lst2.append(lst1[i])\n",
        "\n",
        "if(lst==lst2):\n",
        "  print(\"Its a match\")\n",
        "else:\n",
        "  print(\"Its Gone\")"
      ],
      "execution_count": 13,
      "outputs": [
        {
          "output_type": "stream",
          "text": [
            "Its Gone\n"
          ],
          "name": "stdout"
        }
      ]
    },
    {
      "cell_type": "code",
      "metadata": {
        "id": "j6xrGqIBEd2Q",
        "colab_type": "code",
        "colab": {}
      },
      "source": [
        ""
      ],
      "execution_count": null,
      "outputs": []
    },
    {
      "cell_type": "markdown",
      "metadata": {
        "id": "WH6oWAQjFX91",
        "colab_type": "text"
      },
      "source": [
        "# Question 2"
      ]
    },
    {
      "cell_type": "code",
      "metadata": {
        "id": "Q51iBxSnFZ_4",
        "colab_type": "code",
        "colab": {}
      },
      "source": [
        "#Make a Function for prime numbers and use Filter to filter out all the prime numbers from 1-2500"
      ],
      "execution_count": 14,
      "outputs": []
    },
    {
      "cell_type": "code",
      "metadata": {
        "id": "9bB06BdHFeAp",
        "colab_type": "code",
        "colab": {
          "base_uri": "https://localhost:8080/",
          "height": 105
        },
        "outputId": "99af9c23-1929-4f92-983a-d4a09f1e6153"
      },
      "source": [
        "\n",
        "def prime(i):    \n",
        "    for j in range(2,i):      \n",
        "        if i % j == 0:        \n",
        "            break       \n",
        "    else:\n",
        "        return i\n",
        "primeNo = filter(prime, range(1, 2500+1))\n",
        "print ('\\n Prime numbers between 1-2500 are: \\n')\n",
        "print(list(primeNo))"
      ],
      "execution_count": 15,
      "outputs": [
        {
          "output_type": "stream",
          "text": [
            "\n",
            " Prime numbers between 1-2500 are: \n",
            "\n",
            "[1, 2, 3, 5, 7, 11, 13, 17, 19, 23, 29, 31, 37, 41, 43, 47, 53, 59, 61, 67, 71, 73, 79, 83, 89, 97, 101, 103, 107, 109, 113, 127, 131, 137, 139, 149, 151, 157, 163, 167, 173, 179, 181, 191, 193, 197, 199, 211, 223, 227, 229, 233, 239, 241, 251, 257, 263, 269, 271, 277, 281, 283, 293, 307, 311, 313, 317, 331, 337, 347, 349, 353, 359, 367, 373, 379, 383, 389, 397, 401, 409, 419, 421, 431, 433, 439, 443, 449, 457, 461, 463, 467, 479, 487, 491, 499, 503, 509, 521, 523, 541, 547, 557, 563, 569, 571, 577, 587, 593, 599, 601, 607, 613, 617, 619, 631, 641, 643, 647, 653, 659, 661, 673, 677, 683, 691, 701, 709, 719, 727, 733, 739, 743, 751, 757, 761, 769, 773, 787, 797, 809, 811, 821, 823, 827, 829, 839, 853, 857, 859, 863, 877, 881, 883, 887, 907, 911, 919, 929, 937, 941, 947, 953, 967, 971, 977, 983, 991, 997, 1009, 1013, 1019, 1021, 1031, 1033, 1039, 1049, 1051, 1061, 1063, 1069, 1087, 1091, 1093, 1097, 1103, 1109, 1117, 1123, 1129, 1151, 1153, 1163, 1171, 1181, 1187, 1193, 1201, 1213, 1217, 1223, 1229, 1231, 1237, 1249, 1259, 1277, 1279, 1283, 1289, 1291, 1297, 1301, 1303, 1307, 1319, 1321, 1327, 1361, 1367, 1373, 1381, 1399, 1409, 1423, 1427, 1429, 1433, 1439, 1447, 1451, 1453, 1459, 1471, 1481, 1483, 1487, 1489, 1493, 1499, 1511, 1523, 1531, 1543, 1549, 1553, 1559, 1567, 1571, 1579, 1583, 1597, 1601, 1607, 1609, 1613, 1619, 1621, 1627, 1637, 1657, 1663, 1667, 1669, 1693, 1697, 1699, 1709, 1721, 1723, 1733, 1741, 1747, 1753, 1759, 1777, 1783, 1787, 1789, 1801, 1811, 1823, 1831, 1847, 1861, 1867, 1871, 1873, 1877, 1879, 1889, 1901, 1907, 1913, 1931, 1933, 1949, 1951, 1973, 1979, 1987, 1993, 1997, 1999, 2003, 2011, 2017, 2027, 2029, 2039, 2053, 2063, 2069, 2081, 2083, 2087, 2089, 2099, 2111, 2113, 2129, 2131, 2137, 2141, 2143, 2153, 2161, 2179, 2203, 2207, 2213, 2221, 2237, 2239, 2243, 2251, 2267, 2269, 2273, 2281, 2287, 2293, 2297, 2309, 2311, 2333, 2339, 2341, 2347, 2351, 2357, 2371, 2377, 2381, 2383, 2389, 2393, 2399, 2411, 2417, 2423, 2437, 2441, 2447, 2459, 2467, 2473, 2477]\n"
          ],
          "name": "stdout"
        }
      ]
    },
    {
      "cell_type": "code",
      "metadata": {
        "id": "yW8cZxA8Fie6",
        "colab_type": "code",
        "colab": {}
      },
      "source": [
        ""
      ],
      "execution_count": null,
      "outputs": []
    },
    {
      "cell_type": "markdown",
      "metadata": {
        "id": "m0-c8feQFn_u",
        "colab_type": "text"
      },
      "source": [
        "# Question 3"
      ]
    },
    {
      "cell_type": "code",
      "metadata": {
        "id": "_-L-1bFLFqa7",
        "colab_type": "code",
        "colab": {}
      },
      "source": [
        "\n",
        "#Make a Lambda function for capitalizing the whole sentence passed using arguments.\n",
        "#And map all the sentences in the List, with the lambda functions\n",
        "#[“hey this is sai”,I am in mumbai”,....]\n",
        "#o/p- [“Hey This Is Sai”, I Am In Mumbai”,....]"
      ],
      "execution_count": 16,
      "outputs": []
    },
    {
      "cell_type": "code",
      "metadata": {
        "id": "2Ffz4s-3Ftds",
        "colab_type": "code",
        "colab": {
          "base_uri": "https://localhost:8080/",
          "height": 85
        },
        "outputId": "6b6befc4-2d08-4a70-f849-d76ab2bc7f4b"
      },
      "source": [
        "\n",
        "lst = [\"Hey guys\",\"I am Purvi\",\"I live in Mumbai....\"]\n",
        "\n",
        "print(\" Original list :\")\n",
        "\n",
        "print(lst)\n",
        "\n",
        "result = list(map(lambda words: [words.upper() ] ,lst))\n",
        "\n",
        "print(\"Capitalized list is :\")\n",
        "\n",
        "print(result)"
      ],
      "execution_count": 24,
      "outputs": [
        {
          "output_type": "stream",
          "text": [
            " Original list :\n",
            "['Hey guys', 'I am Purvi', 'I live in Mumbai....']\n",
            "Capitalized list is :\n",
            "[['HEY GUYS'], ['I AM PURVI'], ['I LIVE IN MUMBAI....']]\n"
          ],
          "name": "stdout"
        }
      ]
    },
    {
      "cell_type": "code",
      "metadata": {
        "id": "y4LI7i3HFwG9",
        "colab_type": "code",
        "colab": {}
      },
      "source": [
        ""
      ],
      "execution_count": null,
      "outputs": []
    }
  ]
}