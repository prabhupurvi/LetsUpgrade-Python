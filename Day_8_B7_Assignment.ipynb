{
  "nbformat": 4,
  "nbformat_minor": 0,
  "metadata": {
    "colab": {
      "name": "Day 8- B7 Assignment.ipynb",
      "provenance": [],
      "collapsed_sections": []
    },
    "kernelspec": {
      "name": "python3",
      "display_name": "Python 3"
    }
  },
  "cells": [
    {
      "cell_type": "markdown",
      "metadata": {
        "id": "_ZaNGMZwUIqX",
        "colab_type": "text"
      },
      "source": [
        "## Day 8 Assignment\n"
      ]
    },
    {
      "cell_type": "markdown",
      "metadata": {
        "id": "kN9brRhKURhY",
        "colab_type": "text"
      },
      "source": [
        "# Question 1"
      ]
    },
    {
      "cell_type": "code",
      "metadata": {
        "id": "w1hsPCrkUWg8",
        "colab_type": "code",
        "colab": {}
      },
      "source": [
        "# #Write a decorator function for your taking input for you any kind of function you want to build,\n",
        "# For example - You make a fibonacci series function,in which your input range is been defined by\n",
        "# the decorator program input.\n"
      ],
      "execution_count": 1,
      "outputs": []
    },
    {
      "cell_type": "code",
      "metadata": {
        "id": "uZUJ2pwMUvpY",
        "colab_type": "code",
        "colab": {
          "base_uri": "https://localhost:8080/",
          "height": 51
        },
        "outputId": "5db753cf-ae05-45e2-cdd7-c962d8a3839c"
      },
      "source": [
        "  def func1(to_be_wrapped_fucntion):\n",
        "    def wrap_function():\n",
        "      num = int(input(\"Enter the number \"))\n",
        "      to_be_wrapped_fucntion(num)\n",
        "    return wrap_function\n",
        "\n",
        "\n",
        "  @func1\n",
        "  def cube(x):\n",
        "    print(\"Cube is \"+ str(x**3))\n",
        "\n",
        "  cube()"
      ],
      "execution_count": 106,
      "outputs": [
        {
          "output_type": "stream",
          "text": [
            "Enter the number 3\n",
            "Cube is 27\n"
          ],
          "name": "stdout"
        }
      ]
    },
    {
      "cell_type": "code",
      "metadata": {
        "id": "llMnrhDhVTYm",
        "colab_type": "code",
        "colab": {}
      },
      "source": [
        ""
      ],
      "execution_count": 112,
      "outputs": []
    },
    {
      "cell_type": "markdown",
      "metadata": {
        "id": "RpQ0tU0e3mKj",
        "colab_type": "text"
      },
      "source": [
        "## Question 2"
      ]
    },
    {
      "cell_type": "code",
      "metadata": {
        "id": "Lp_tFF-zWWVf",
        "colab_type": "code",
        "colab": {}
      },
      "source": [
        "# For this challenge you need to develop a Python program to open a file in read only mode and try\n",
        "# writing something to it and handle the subsequent errors using Exception Handling."
      ],
      "execution_count": null,
      "outputs": []
    },
    {
      "cell_type": "code",
      "metadata": {
        "id": "A5vAS9uEWjIA",
        "colab_type": "code",
        "colab": {}
      },
      "source": [
        "greeting = open(\"Letsupgrade.txt\",\"w\")\n",
        "greeting.write(\"Hello Guys!!! It was fun learning with you all\")\n",
        "greeting.close()"
      ],
      "execution_count": 122,
      "outputs": []
    },
    {
      "cell_type": "code",
      "metadata": {
        "id": "-Ghg6EwF6Qhq",
        "colab_type": "code",
        "colab": {
          "base_uri": "https://localhost:8080/",
          "height": 51
        },
        "outputId": "b9bc24ae-b1c8-4f9c-da1c-026fac9227b4"
      },
      "source": [
        "greeting= open(\"/content/Letsupgrade.txt\",\"r\")\n",
        "try:\n",
        "  greeting.write(\"Thank You Everyone. See you all in the next course\")\n",
        "except Exception as e:\n",
        "  print(\"Oops couldnt write in the text file!!!\")\n",
        "finally:\n",
        "  print(\"Good Bye Guys\")"
      ],
      "execution_count": 123,
      "outputs": [
        {
          "output_type": "stream",
          "text": [
            "Oops couldnt write in the text file!!!\n",
            "Good Bye Guys\n"
          ],
          "name": "stdout"
        }
      ]
    },
    {
      "cell_type": "code",
      "metadata": {
        "id": "JzieoKdmAgz0",
        "colab_type": "code",
        "colab": {}
      },
      "source": [
        ""
      ],
      "execution_count": null,
      "outputs": []
    }
  ]
}